{
 "cells": [
  {
   "cell_type": "markdown",
   "metadata": {},
   "source": [
    "# Assignment 2"
   ]
  },
  {
   "cell_type": "markdown",
   "metadata": {},
   "source": [
    "# set up\n",
    "\n",
    "the first datasheet I am going to analyze is some details about tumour"
   ]
  },
  {
   "cell_type": "code",
   "execution_count": 985,
   "metadata": {},
   "outputs": [],
   "source": [
    "# Necessary import\n",
    "import pandas as pd"
   ]
  },
  {
   "cell_type": "code",
   "execution_count": 986,
   "metadata": {},
   "outputs": [
    {
     "name": "stderr",
     "output_type": "stream",
     "text": [
      "C:\\Users\\apple\\Anaconda3\\lib\\site-packages\\IPython\\core\\interactiveshell.py:3057: DtypeWarning: Columns (5,6,8,9,17,18,20,22,26,32) have mixed types. Specify dtype option on import or set low_memory=False.\n",
      "  interactivity=interactivity, compiler=compiler, result=result)\n"
     ]
    },
    {
     "data": {
      "text/html": [
       "<div>\n",
       "<style scoped>\n",
       "    .dataframe tbody tr th:only-of-type {\n",
       "        vertical-align: middle;\n",
       "    }\n",
       "\n",
       "    .dataframe tbody tr th {\n",
       "        vertical-align: top;\n",
       "    }\n",
       "\n",
       "    .dataframe thead th {\n",
       "        text-align: right;\n",
       "    }\n",
       "</style>\n",
       "<table border=\"1\" class=\"dataframe\">\n",
       "  <thead>\n",
       "    <tr style=\"text-align: right;\">\n",
       "      <th></th>\n",
       "      <th>TUMOURID</th>\n",
       "      <th>PATIENTID</th>\n",
       "      <th>DIAGNOSISDATEBEST</th>\n",
       "      <th>SITE_ICD10_O2</th>\n",
       "      <th>SITE_ICD10_O2_3CHAR</th>\n",
       "      <th>MORPH_ICD10_O2</th>\n",
       "      <th>BEHAVIOUR_ICD10_O2</th>\n",
       "      <th>T_BEST</th>\n",
       "      <th>N_BEST</th>\n",
       "      <th>M_BEST</th>\n",
       "      <th>...</th>\n",
       "      <th>PERFORMANCESTATUS</th>\n",
       "      <th>CNS</th>\n",
       "      <th>ACE27</th>\n",
       "      <th>GLEASON_PRIMARY</th>\n",
       "      <th>GLEASON_SECONDARY</th>\n",
       "      <th>GLEASON_TERTIARY</th>\n",
       "      <th>GLEASON_COMBINED</th>\n",
       "      <th>DATE_FIRST_SURGERY</th>\n",
       "      <th>LATERALITY</th>\n",
       "      <th>QUINTILE_2015</th>\n",
       "    </tr>\n",
       "  </thead>\n",
       "  <tbody>\n",
       "    <tr>\n",
       "      <th>0</th>\n",
       "      <td>10000001</td>\n",
       "      <td>10000001</td>\n",
       "      <td>2015-11-06</td>\n",
       "      <td>C443</td>\n",
       "      <td>C44</td>\n",
       "      <td>8090</td>\n",
       "      <td>3</td>\n",
       "      <td>NaN</td>\n",
       "      <td>NaN</td>\n",
       "      <td>NaN</td>\n",
       "      <td>...</td>\n",
       "      <td>NaN</td>\n",
       "      <td>NaN</td>\n",
       "      <td>NaN</td>\n",
       "      <td>NaN</td>\n",
       "      <td>NaN</td>\n",
       "      <td>NaN</td>\n",
       "      <td>NaN</td>\n",
       "      <td>2015-11-06</td>\n",
       "      <td>L</td>\n",
       "      <td>3</td>\n",
       "    </tr>\n",
       "    <tr>\n",
       "      <th>1</th>\n",
       "      <td>10000002</td>\n",
       "      <td>10000002</td>\n",
       "      <td>2015-10-06</td>\n",
       "      <td>C449</td>\n",
       "      <td>C44</td>\n",
       "      <td>8090</td>\n",
       "      <td>3</td>\n",
       "      <td>NaN</td>\n",
       "      <td>NaN</td>\n",
       "      <td>NaN</td>\n",
       "      <td>...</td>\n",
       "      <td>NaN</td>\n",
       "      <td>NaN</td>\n",
       "      <td>NaN</td>\n",
       "      <td>NaN</td>\n",
       "      <td>NaN</td>\n",
       "      <td>NaN</td>\n",
       "      <td>NaN</td>\n",
       "      <td>2015-10-06</td>\n",
       "      <td>8</td>\n",
       "      <td>2</td>\n",
       "    </tr>\n",
       "    <tr>\n",
       "      <th>2</th>\n",
       "      <td>10000003</td>\n",
       "      <td>10000003</td>\n",
       "      <td>2013-01-30</td>\n",
       "      <td>C449</td>\n",
       "      <td>C44</td>\n",
       "      <td>8090</td>\n",
       "      <td>3</td>\n",
       "      <td>NaN</td>\n",
       "      <td>NaN</td>\n",
       "      <td>NaN</td>\n",
       "      <td>...</td>\n",
       "      <td>NaN</td>\n",
       "      <td>NaN</td>\n",
       "      <td>NaN</td>\n",
       "      <td>NaN</td>\n",
       "      <td>NaN</td>\n",
       "      <td>NaN</td>\n",
       "      <td>NaN</td>\n",
       "      <td>NaN</td>\n",
       "      <td>8</td>\n",
       "      <td>1 - least deprived</td>\n",
       "    </tr>\n",
       "    <tr>\n",
       "      <th>3</th>\n",
       "      <td>10000004</td>\n",
       "      <td>10000004</td>\n",
       "      <td>2015-09-15</td>\n",
       "      <td>C449</td>\n",
       "      <td>C44</td>\n",
       "      <td>8090</td>\n",
       "      <td>3</td>\n",
       "      <td>NaN</td>\n",
       "      <td>NaN</td>\n",
       "      <td>NaN</td>\n",
       "      <td>...</td>\n",
       "      <td>NaN</td>\n",
       "      <td>NaN</td>\n",
       "      <td>NaN</td>\n",
       "      <td>NaN</td>\n",
       "      <td>NaN</td>\n",
       "      <td>NaN</td>\n",
       "      <td>NaN</td>\n",
       "      <td>NaN</td>\n",
       "      <td>8</td>\n",
       "      <td>2</td>\n",
       "    </tr>\n",
       "    <tr>\n",
       "      <th>4</th>\n",
       "      <td>10000005</td>\n",
       "      <td>10000005</td>\n",
       "      <td>2014-11-01</td>\n",
       "      <td>C449</td>\n",
       "      <td>C44</td>\n",
       "      <td>8090</td>\n",
       "      <td>3</td>\n",
       "      <td>NaN</td>\n",
       "      <td>NaN</td>\n",
       "      <td>NaN</td>\n",
       "      <td>...</td>\n",
       "      <td>NaN</td>\n",
       "      <td>NaN</td>\n",
       "      <td>NaN</td>\n",
       "      <td>NaN</td>\n",
       "      <td>NaN</td>\n",
       "      <td>NaN</td>\n",
       "      <td>NaN</td>\n",
       "      <td>2014-11-01</td>\n",
       "      <td>8</td>\n",
       "      <td>2</td>\n",
       "    </tr>\n",
       "  </tbody>\n",
       "</table>\n",
       "<p>5 rows × 34 columns</p>\n",
       "</div>"
      ],
      "text/plain": [
       "   TUMOURID  PATIENTID DIAGNOSISDATEBEST SITE_ICD10_O2 SITE_ICD10_O2_3CHAR  \\\n",
       "0  10000001   10000001        2015-11-06          C443                 C44   \n",
       "1  10000002   10000002        2015-10-06          C449                 C44   \n",
       "2  10000003   10000003        2013-01-30          C449                 C44   \n",
       "3  10000004   10000004        2015-09-15          C449                 C44   \n",
       "4  10000005   10000005        2014-11-01          C449                 C44   \n",
       "\n",
       "  MORPH_ICD10_O2 BEHAVIOUR_ICD10_O2 T_BEST N_BEST M_BEST  ...  \\\n",
       "0           8090                  3    NaN    NaN    NaN  ...   \n",
       "1           8090                  3    NaN    NaN    NaN  ...   \n",
       "2           8090                  3    NaN    NaN    NaN  ...   \n",
       "3           8090                  3    NaN    NaN    NaN  ...   \n",
       "4           8090                  3    NaN    NaN    NaN  ...   \n",
       "\n",
       "  PERFORMANCESTATUS  CNS ACE27  GLEASON_PRIMARY  GLEASON_SECONDARY  \\\n",
       "0               NaN  NaN   NaN              NaN                NaN   \n",
       "1               NaN  NaN   NaN              NaN                NaN   \n",
       "2               NaN  NaN   NaN              NaN                NaN   \n",
       "3               NaN  NaN   NaN              NaN                NaN   \n",
       "4               NaN  NaN   NaN              NaN                NaN   \n",
       "\n",
       "  GLEASON_TERTIARY  GLEASON_COMBINED DATE_FIRST_SURGERY LATERALITY  \\\n",
       "0              NaN               NaN         2015-11-06          L   \n",
       "1              NaN               NaN         2015-10-06          8   \n",
       "2              NaN               NaN                NaN          8   \n",
       "3              NaN               NaN                NaN          8   \n",
       "4              NaN               NaN         2014-11-01          8   \n",
       "\n",
       "        QUINTILE_2015  \n",
       "0                   3  \n",
       "1                   2  \n",
       "2  1 - least deprived  \n",
       "3                   2  \n",
       "4                   2  \n",
       "\n",
       "[5 rows x 34 columns]"
      ]
     },
     "execution_count": 986,
     "metadata": {},
     "output_type": "execute_result"
    }
   ],
   "source": [
    "# Read in the data\n",
    "tumour= pd.read_csv(\"sim_av_tumour.csv\")\n",
    "tumour.head()"
   ]
  },
  {
   "cell_type": "markdown",
   "metadata": {},
   "source": [
    "# about this table"
   ]
  },
  {
   "cell_type": "code",
   "execution_count": 987,
   "metadata": {},
   "outputs": [
    {
     "data": {
      "text/plain": [
       "(1402817, 34)"
      ]
     },
     "execution_count": 987,
     "metadata": {},
     "output_type": "execute_result"
    }
   ],
   "source": [
    "tumour.shape"
   ]
  },
  {
   "cell_type": "markdown",
   "metadata": {},
   "source": [
    "This table contains 34 columns and 1402817 rows. And have a look at more information about this table."
   ]
  },
  {
   "cell_type": "code",
   "execution_count": 988,
   "metadata": {},
   "outputs": [
    {
     "name": "stdout",
     "output_type": "stream",
     "text": [
      "<class 'pandas.core.frame.DataFrame'>\n",
      "RangeIndex: 1402817 entries, 0 to 1402816\n",
      "Data columns (total 34 columns):\n",
      "TUMOURID                    1402817 non-null int64\n",
      "PATIENTID                   1402817 non-null int64\n",
      "DIAGNOSISDATEBEST           1402817 non-null object\n",
      "SITE_ICD10_O2               1402303 non-null object\n",
      "SITE_ICD10_O2_3CHAR         1402356 non-null object\n",
      "MORPH_ICD10_O2              1402304 non-null object\n",
      "BEHAVIOUR_ICD10_O2          1402410 non-null object\n",
      "T_BEST                      653053 non-null object\n",
      "N_BEST                      546397 non-null object\n",
      "M_BEST                      535682 non-null object\n",
      "STAGE_BEST                  1402801 non-null object\n",
      "STAGE_BEST_SYSTEM           671840 non-null float64\n",
      "GRADE                       1340030 non-null object\n",
      "AGE                         1402817 non-null int64\n",
      "SEX                         1402817 non-null int64\n",
      "CREG_CODE                   1402817 non-null object\n",
      "LINKNUMBER                  1402817 non-null int64\n",
      "SCREENINGSTATUSFULL_CODE    124561 non-null object\n",
      "ER_STATUS                   123700 non-null object\n",
      "ER_SCORE                    57910 non-null float64\n",
      "PR_STATUS                   79216 non-null object\n",
      "PR_SCORE                    32785 non-null float64\n",
      "HER2_STATUS                 108034 non-null object\n",
      "CANCERCAREPLANINTENT        415863 non-null object\n",
      "PERFORMANCESTATUS           381280 non-null object\n",
      "CNS                         369922 non-null object\n",
      "ACE27                       106324 non-null object\n",
      "GLEASON_PRIMARY             58602 non-null float64\n",
      "GLEASON_SECONDARY           34517 non-null float64\n",
      "GLEASON_TERTIARY            784 non-null float64\n",
      "GLEASON_COMBINED            34577 non-null float64\n",
      "DATE_FIRST_SURGERY          872714 non-null object\n",
      "LATERALITY                  1402782 non-null object\n",
      "QUINTILE_2015               1402817 non-null object\n",
      "dtypes: float64(7), int64(5), object(22)\n",
      "memory usage: 363.9+ MB\n"
     ]
    }
   ],
   "source": [
    "tumour.info()"
   ]
  },
  {
   "cell_type": "markdown",
   "metadata": {},
   "source": [
    "I want to know the exact bytes"
   ]
  },
  {
   "cell_type": "code",
   "execution_count": 989,
   "metadata": {},
   "outputs": [
    {
     "data": {
      "text/plain": [
       "1607800047"
      ]
     },
     "execution_count": 989,
     "metadata": {},
     "output_type": "execute_result"
    }
   ],
   "source": [
    "tumour.memory_usage(deep=True).sum()"
   ]
  },
  {
   "cell_type": "markdown",
   "metadata": {},
   "source": [
    "# cleaning"
   ]
  },
  {
   "cell_type": "markdown",
   "metadata": {},
   "source": [
    "How many missing values are there per column."
   ]
  },
  {
   "cell_type": "code",
   "execution_count": 990,
   "metadata": {},
   "outputs": [
    {
     "data": {
      "text/plain": [
       "TUMOURID                          0\n",
       "PATIENTID                         0\n",
       "DIAGNOSISDATEBEST                 0\n",
       "SITE_ICD10_O2                   514\n",
       "SITE_ICD10_O2_3CHAR             461\n",
       "MORPH_ICD10_O2                  513\n",
       "BEHAVIOUR_ICD10_O2              407\n",
       "T_BEST                       749764\n",
       "N_BEST                       856420\n",
       "M_BEST                       867135\n",
       "STAGE_BEST                       16\n",
       "STAGE_BEST_SYSTEM            730977\n",
       "GRADE                         62787\n",
       "AGE                               0\n",
       "SEX                               0\n",
       "CREG_CODE                         0\n",
       "LINKNUMBER                        0\n",
       "SCREENINGSTATUSFULL_CODE    1278256\n",
       "ER_STATUS                   1279117\n",
       "ER_SCORE                    1344907\n",
       "PR_STATUS                   1323601\n",
       "PR_SCORE                    1370032\n",
       "HER2_STATUS                 1294783\n",
       "CANCERCAREPLANINTENT         986954\n",
       "PERFORMANCESTATUS           1021537\n",
       "CNS                         1032895\n",
       "ACE27                       1296493\n",
       "GLEASON_PRIMARY             1344215\n",
       "GLEASON_SECONDARY           1368300\n",
       "GLEASON_TERTIARY            1402033\n",
       "GLEASON_COMBINED            1368240\n",
       "DATE_FIRST_SURGERY           530103\n",
       "LATERALITY                       35\n",
       "QUINTILE_2015                     0\n",
       "dtype: int64"
      ]
     },
     "execution_count": 990,
     "metadata": {},
     "output_type": "execute_result"
    }
   ],
   "source": [
    "tumour.isnull().sum()"
   ]
  },
  {
   "cell_type": "markdown",
   "metadata": {},
   "source": [
    "It can be seen that the missing values of \"STAGE_BEST\" and \"LATERALITY\" are much smaller than others,so I drop rows that have any missing value of them first"
   ]
  },
  {
   "cell_type": "code",
   "execution_count": 991,
   "metadata": {},
   "outputs": [
    {
     "data": {
      "text/plain": [
       "(1402766, 34)"
      ]
     },
     "execution_count": 991,
     "metadata": {},
     "output_type": "execute_result"
    }
   ],
   "source": [
    "tumour.dropna(subset=['STAGE_BEST','LATERALITY'],how='any',inplace=True)\n",
    "tumour.shape"
   ]
  },
  {
   "cell_type": "markdown",
   "metadata": {},
   "source": [
    "THEN LOOK AT EACH COLUMN SEPARATELY"
   ]
  },
  {
   "cell_type": "markdown",
   "metadata": {},
   "source": [
    "SEE WHAT THEY MEAN,IF I CAN DROP THEIR MISSING VALUES"
   ]
  },
  {
   "cell_type": "markdown",
   "metadata": {},
   "source": [
    "                                                                                             "
   ]
  },
  {
   "cell_type": "markdown",
   "metadata": {},
   "source": [
    "\"DIAGNOSISDATEBEST\""
   ]
  },
  {
   "cell_type": "markdown",
   "metadata": {},
   "source": [
    "\"DIAGNOSISDATEBEST\"column which means the date on which the patient was first diagnosed with cancer (whether at its primary site or as a metastasis), expressed as DDMMYYYY."
   ]
  },
  {
   "cell_type": "code",
   "execution_count": 992,
   "metadata": {},
   "outputs": [
    {
     "data": {
      "text/plain": [
       "count        1402766\n",
       "unique          1095\n",
       "top       2013-05-07\n",
       "freq            2205\n",
       "Name: DIAGNOSISDATEBEST, dtype: object"
      ]
     },
     "execution_count": 992,
     "metadata": {},
     "output_type": "execute_result"
    }
   ],
   "source": [
    "tumour.DIAGNOSISDATEBEST.describe()"
   ]
  },
  {
   "cell_type": "markdown",
   "metadata": {},
   "source": [
    "change object to exclusive type (datatime 64[ns]) for later statistical analysis"
   ]
  },
  {
   "cell_type": "code",
   "execution_count": 993,
   "metadata": {},
   "outputs": [],
   "source": [
    "tumour['DIAGNOSISDATEBEST']=pd.to_datetime(tumour.DIAGNOSISDATEBEST)"
   ]
  },
  {
   "cell_type": "code",
   "execution_count": 994,
   "metadata": {},
   "outputs": [
    {
     "data": {
      "text/plain": [
       "<matplotlib.axes._subplots.AxesSubplot at 0x28ac63ea7b8>"
      ]
     },
     "execution_count": 994,
     "metadata": {},
     "output_type": "execute_result"
    },
    {
     "data": {
      "image/png": "[encoded data removed]",
      "text/plain": [
       "<Figure size 432x288 with 1 Axes>"
      ]
     },
     "metadata": {
      "needs_background": "light"
     },
     "output_type": "display_data"
    }
   ],
   "source": [
    "%matplotlib inline\n",
    "tumour['year_diagnosis']=tumour.DIAGNOSISDATEBEST.dt.year\n",
    "tumour.year_diagnosis.value_counts().sort_index().plot()"
   ]
  },
  {
   "cell_type": "markdown",
   "metadata": {},
   "source": [
    "I want to see the frequency of per year.And we can see that being diagnosed with cancer increases every year."
   ]
  },
  {
   "cell_type": "markdown",
   "metadata": {},
   "source": [
    "                                                                                             "
   ]
  },
  {
   "cell_type": "markdown",
   "metadata": {},
   "source": [
    "\"SITE_ICD10_O2\"    \"SITE_ICD10_O2_3CHAR\""
   ]
  },
  {
   "cell_type": "markdown",
   "metadata": {},
   "source": [
    "\"SITE_ICD10_O2\"and \"SITE_ICD10_O2_3CHAR\":ICD defines the universe of diseases, disorders, injuries and other related health conditions\n",
    " \"SITE_ICD10_O2_3CHAR\" :general categories                                                               \n",
    " \"SITE_ICD10_O2\":breakdown of general categories(\"SITE_ICD10_O2_3CHAR\")"
   ]
  },
  {
   "cell_type": "markdown",
   "metadata": {},
   "source": [
    "so I drop rows that have any missing value of them "
   ]
  },
  {
   "cell_type": "code",
   "execution_count": 995,
   "metadata": {},
   "outputs": [
    {
     "data": {
      "text/plain": [
       "(1401957, 35)"
      ]
     },
     "execution_count": 995,
     "metadata": {},
     "output_type": "execute_result"
    }
   ],
   "source": [
    "tumour.dropna(subset=['SITE_ICD10_O2','SITE_ICD10_O2_3CHAR'],how='any',inplace=True)\n",
    "tumour.shape"
   ]
  },
  {
   "cell_type": "markdown",
   "metadata": {},
   "source": [
    " "
   ]
  },
  {
   "cell_type": "markdown",
   "metadata": {},
   "source": [
    "\"T_BEST\"                     \"N_BEST\"                      \"M_BEST\"                       "
   ]
  },
  {
   "cell_type": "markdown",
   "metadata": {},
   "source": [
    "In the TNM system:\n",
    "\n",
    "The T refers to the size and extent of the main tumor. The main tumor is usually called the primary tumor.\n",
    "The N refers to the the number of nearby lymph nodes that have cancer.\n",
    "The M refers to whether the cancer has metastasized. This means that the cancer has spread from the primary tumor to other parts of the body.\n",
    "When your cancer is described by the TNM system, there will be numbers after each letter that give more details about the cancer."
   ]
  },
  {
   "cell_type": "markdown",
   "metadata": {},
   "source": [
    "IS is not cancer, but it may become cancer."
   ]
  },
  {
   "cell_type": "markdown",
   "metadata": {},
   "source": [
    "so I drop rows that have any missing value of them"
   ]
  },
  {
   "cell_type": "code",
   "execution_count": 996,
   "metadata": {},
   "outputs": [
    {
     "data": {
      "text/plain": [
       "(446144, 35)"
      ]
     },
     "execution_count": 996,
     "metadata": {},
     "output_type": "execute_result"
    }
   ],
   "source": [
    "tumour.dropna(subset=['T_BEST','N_BEST','M_BEST'],how='any',inplace=True)\n",
    "tumour.shape"
   ]
  },
  {
   "cell_type": "markdown",
   "metadata": {},
   "source": [
    "Primary tumor (T)\n",
    "\n",
    "TX: Main tumor cannot be measured.\n",
    "T0: Main tumor cannot be found.\n",
    "T1, T2, T3, T4: Refers to the size and/or extent of the main tumor. The higher the number after the T, the larger the tumor or the more it has grown into nearby tissues. T's may be further divided to provide more detail, such as T3a and T3b"
   ]
  },
  {
   "cell_type": "code",
   "execution_count": 997,
   "metadata": {},
   "outputs": [
    {
     "data": {
      "text/plain": [
       "3      90250\n",
       "2      75082\n",
       "4      50269\n",
       "1      38405\n",
       "1c     30017\n",
       "2a     27931\n",
       "1a     27499\n",
       "1b     23711\n",
       "3a     16486\n",
       "2c     15762\n",
       "2b     11430\n",
       "3b     10911\n",
       "4b      9947\n",
       "4a      8460\n",
       "is      3163\n",
       "a       2363\n",
       "3c      1447\n",
       "4d       529\n",
       "1mi      524\n",
       "1b1      496\n",
       "0        408\n",
       "1a1      267\n",
       "4c       175\n",
       "3d       148\n",
       "1b2       88\n",
       "1d        60\n",
       "2a2       58\n",
       "3s        49\n",
       "1a2       44\n",
       "X         33\n",
       "2s        32\n",
       "2d        28\n",
       "2a1       24\n",
       "IS        24\n",
       "2A         9\n",
       "T2         5\n",
       "1B         3\n",
       "4e         3\n",
       "3/4        3\n",
       "T3         1\n",
       "Name: T_BEST, dtype: int64"
      ]
     },
     "execution_count": 997,
     "metadata": {},
     "output_type": "execute_result"
    }
   ],
   "source": [
    "tumour['T_BEST'].value_counts()"
   ]
  },
  {
   "cell_type": "markdown",
   "metadata": {},
   "source": [
    "so:1、drop some meaningless values{a , 1b1 ,1a1 ,1b2 ,2a2 , 1a2 , 2a1 }(maybe human error)                       "
   ]
  },
  {
   "cell_type": "markdown",
   "metadata": {},
   "source": [
    "  2、change {2A , T2 ,1B, T3,is}to{2a , 2 , 1b ,3,IS}"
   ]
  },
  {
   "cell_type": "code",
   "execution_count": 998,
   "metadata": {},
   "outputs": [],
   "source": [
    "tumour.drop(tumour[tumour.T_BEST=='a'].index,inplace=True)\n",
    "tumour.drop(tumour[tumour.T_BEST=='1b1'].index,inplace=True)\n",
    "tumour.drop(tumour[tumour.T_BEST=='1a1'].index,inplace=True)\n",
    "tumour.drop(tumour[tumour.T_BEST=='1b2'].index,inplace=True)\n",
    "tumour.drop(tumour[tumour.T_BEST=='2a2'].index,inplace=True)\n",
    "tumour.drop(tumour[tumour.T_BEST=='1a2'].index,inplace=True)\n",
    "tumour.drop(tumour[tumour.T_BEST=='2a1'].index,inplace=True)"
   ]
  },
  {
   "cell_type": "code",
   "execution_count": 999,
   "metadata": {},
   "outputs": [],
   "source": [
    "tumour.replace('2A','2a',inplace=True)\n",
    "tumour.replace('T2','2',inplace=True)\n",
    "tumour.replace('1B','2b',inplace=True)\n",
    "tumour.replace('T3','3',inplace=True)\n",
    "tumour.replace('is','IS',inplace=True)"
   ]
  },
  {
   "cell_type": "code",
   "execution_count": 1000,
   "metadata": {},
   "outputs": [
    {
     "data": {
      "text/plain": [
       "3      90251\n",
       "2      75087\n",
       "4      50269\n",
       "1      38405\n",
       "1c     30017\n",
       "2a     27940\n",
       "1a     27499\n",
       "1b     23711\n",
       "3a     16486\n",
       "2c     15762\n",
       "2b     11433\n",
       "3b     10911\n",
       "4b      9947\n",
       "4a      8460\n",
       "IS      3187\n",
       "3c      1447\n",
       "4d       529\n",
       "1mi      524\n",
       "0        408\n",
       "4c       175\n",
       "3d       148\n",
       "1d        60\n",
       "3s        49\n",
       "X         33\n",
       "2s        32\n",
       "2d        28\n",
       "3/4        3\n",
       "4e         3\n",
       "Name: T_BEST, dtype: int64"
      ]
     },
     "execution_count": 1000,
     "metadata": {},
     "output_type": "execute_result"
    }
   ],
   "source": [
    "tumour['T_BEST'].value_counts()"
   ]
  },
  {
   "cell_type": "markdown",
   "metadata": {},
   "source": [
    "Regional lymph nodes (N)\n",
    "\n",
    "NX: Cancer in nearby lymph nodes cannot be measured.\n",
    "N0: There is no cancer in nearby lymph nodes.\n",
    "N1, N2, N3: Refers to the number and location of lymph nodes that contain cancer. The higher the number after the N, the more lymph nodes that contain cancer."
   ]
  },
  {
   "cell_type": "code",
   "execution_count": 1001,
   "metadata": {},
   "outputs": [
    {
     "data": {
      "text/plain": [
       "0      278951\n",
       "1       71754\n",
       "2       48756\n",
       "3       22345\n",
       "1a       5459\n",
       "2b       4362\n",
       "2a       3062\n",
       "1mi      2209\n",
       "2c       1893\n",
       "3a       1356\n",
       "1b       1126\n",
       "0.0       808\n",
       "1c        284\n",
       "3b        167\n",
       "3c        125\n",
       "X         124\n",
       "N0          8\n",
       "2B          5\n",
       "1.0         5\n",
       "4           2\n",
       "2.0         2\n",
       "+           1\n",
       "Name: N_BEST, dtype: int64"
      ]
     },
     "execution_count": 1001,
     "metadata": {},
     "output_type": "execute_result"
    }
   ],
   "source": [
    "tumour['N_BEST'].value_counts()"
   ]
  },
  {
   "cell_type": "markdown",
   "metadata": {},
   "source": [
    "so:1、drop some meaningless values{+, 4}(maybe human error)"
   ]
  },
  {
   "cell_type": "markdown",
   "metadata": {},
   "source": [
    "2、change {0.0 , 1.0 ,2B, 2.0, NO }to{0 , 1 , 2b ,2, 0}"
   ]
  },
  {
   "cell_type": "code",
   "execution_count": 1002,
   "metadata": {},
   "outputs": [],
   "source": [
    "tumour.drop(tumour[tumour.N_BEST=='4'].index,inplace=True)\n",
    "tumour.drop(tumour[tumour.N_BEST=='+'].index,inplace=True)"
   ]
  },
  {
   "cell_type": "code",
   "execution_count": 1003,
   "metadata": {},
   "outputs": [],
   "source": [
    "tumour.replace(0.0,'0',inplace=True)\n",
    "tumour.replace(1.0,'1',inplace=True)\n",
    "tumour.replace('2B','2b',inplace=True)\n",
    "tumour.replace(2.0,'2',inplace=True)\n",
    "tumour.replace('N0','0',inplace=True)"
   ]
  },
  {
   "cell_type": "code",
   "execution_count": 1004,
   "metadata": {},
   "outputs": [
    {
     "data": {
      "text/plain": [
       "0      279767\n",
       "1       71759\n",
       "2       48758\n",
       "3       22345\n",
       "1a       5459\n",
       "2b       4367\n",
       "2a       3062\n",
       "1mi      2209\n",
       "2c       1893\n",
       "3a       1356\n",
       "1b       1126\n",
       "1c        284\n",
       "3b        167\n",
       "3c        125\n",
       "X         124\n",
       "Name: N_BEST, dtype: int64"
      ]
     },
     "execution_count": 1004,
     "metadata": {},
     "output_type": "execute_result"
    }
   ],
   "source": [
    "tumour['N_BEST'].value_counts()"
   ]
  },
  {
   "cell_type": "markdown",
   "metadata": {},
   "source": [
    "Distant metastasis (M)\n",
    "\n",
    "MX: Metastasis cannot be measured.\n",
    "M0: Cancer has not spread to other parts of the body.\n",
    "M1: Cancer has spread to other parts of the body."
   ]
  },
  {
   "cell_type": "code",
   "execution_count": 1005,
   "metadata": {},
   "outputs": [
    {
     "data": {
      "text/plain": [
       "0     372909\n",
       "1      35091\n",
       "1b     23938\n",
       "1a     10580\n",
       "X        181\n",
       "1c       101\n",
       "2          1\n",
       "Name: M_BEST, dtype: int64"
      ]
     },
     "execution_count": 1005,
     "metadata": {},
     "output_type": "execute_result"
    }
   ],
   "source": [
    "tumour['M_BEST'].value_counts()"
   ]
  },
  {
   "cell_type": "markdown",
   "metadata": {},
   "source": [
    "so:1、drop some meaningless values{2}(maybe human error)"
   ]
  },
  {
   "cell_type": "code",
   "execution_count": 1006,
   "metadata": {},
   "outputs": [],
   "source": [
    "tumour.drop(tumour[tumour.M_BEST=='2'].index,inplace=True)"
   ]
  },
  {
   "cell_type": "code",
   "execution_count": 1007,
   "metadata": {},
   "outputs": [
    {
     "data": {
      "text/plain": [
       "0     372909\n",
       "1      35091\n",
       "1b     23938\n",
       "1a     10580\n",
       "X        181\n",
       "1c       101\n",
       "Name: M_BEST, dtype: int64"
      ]
     },
     "execution_count": 1007,
     "metadata": {},
     "output_type": "execute_result"
    }
   ],
   "source": [
    "tumour['M_BEST'].value_counts()"
   ]
  },
  {
   "cell_type": "markdown",
   "metadata": {},
   "source": [
    "\"STAGE_BEST\"                      \n",
    "\"STAGE_BEST_SYSTEM\"            "
   ]
  },
  {
   "cell_type": "code",
   "execution_count": 1008,
   "metadata": {},
   "outputs": [
    {
     "data": {
      "text/plain": [
       "4      74289\n",
       "1      72102\n",
       "3      57038\n",
       "2      56295\n",
       "1A     46942\n",
       "2b     37102\n",
       "2a     31075\n",
       "3A     24163\n",
       "3B     15619\n",
       "4A      9445\n",
       "3C      5735\n",
       "?       3420\n",
       "0       3281\n",
       "U       2257\n",
       "4B      1917\n",
       "2C       820\n",
       "4C       627\n",
       "1C       285\n",
       "0A        64\n",
       "4S        58\n",
       "1A1       41\n",
       "3S        34\n",
       "1B1       32\n",
       "1S        29\n",
       "1E        28\n",
       "2S        23\n",
       "2A1       16\n",
       "2A2       15\n",
       "1A2       15\n",
       "0IS       13\n",
       "2E         9\n",
       "3E         6\n",
       "1B2        5\n",
       "Name: STAGE_BEST, dtype: int64"
      ]
     },
     "execution_count": 1008,
     "metadata": {},
     "output_type": "execute_result"
    }
   ],
   "source": [
    "tumour['STAGE_BEST'].value_counts()"
   ]
  },
  {
   "cell_type": "markdown",
   "metadata": {},
   "source": [
    "so:1、drop some meaningless values{?, U ,1A1,1B1,1A2,2A2,2A1,1B2}(maybe human error)\n",
    "\n",
    "2、change {2b , 2a ,0IS}to{2B , 2A , 0 }"
   ]
  },
  {
   "cell_type": "code",
   "execution_count": 1009,
   "metadata": {},
   "outputs": [],
   "source": [
    "tumour.drop(tumour[tumour.STAGE_BEST=='?'].index,inplace=True)\n",
    "tumour.drop(tumour[tumour.STAGE_BEST=='U'].index,inplace=True)\n",
    "tumour.drop(tumour[tumour.STAGE_BEST=='1A1'].index,inplace=True)\n",
    "tumour.drop(tumour[tumour.STAGE_BEST=='1B1'].index,inplace=True)\n",
    "tumour.drop(tumour[tumour.STAGE_BEST=='1A2'].index,inplace=True)\n",
    "tumour.drop(tumour[tumour.STAGE_BEST=='2A2'].index,inplace=True)\n",
    "tumour.drop(tumour[tumour.STAGE_BEST=='2A1'].index,inplace=True)\n",
    "tumour.drop(tumour[tumour.STAGE_BEST=='1B2'].index,inplace=True)"
   ]
  },
  {
   "cell_type": "code",
   "execution_count": 1010,
   "metadata": {},
   "outputs": [],
   "source": [
    "tumour.replace('2b','2B',inplace=True)\n",
    "tumour.replace('2a','2A',inplace=True)\n",
    "tumour.replace('0IS','0',inplace=True)"
   ]
  },
  {
   "cell_type": "code",
   "execution_count": 1011,
   "metadata": {},
   "outputs": [
    {
     "data": {
      "text/plain": [
       "4     74289\n",
       "1     72102\n",
       "3     57038\n",
       "2     56295\n",
       "1A    46942\n",
       "2B    37102\n",
       "2A    31075\n",
       "3A    24163\n",
       "3B    15619\n",
       "4A     9445\n",
       "3C     5735\n",
       "0      3294\n",
       "4B     1917\n",
       "2C      820\n",
       "4C      627\n",
       "1C      285\n",
       "0A       64\n",
       "4S       58\n",
       "3S       34\n",
       "1S       29\n",
       "1E       28\n",
       "2S       23\n",
       "2E        9\n",
       "3E        6\n",
       "Name: STAGE_BEST, dtype: int64"
      ]
     },
     "execution_count": 1011,
     "metadata": {},
     "output_type": "execute_result"
    }
   ],
   "source": [
    "tumour['STAGE_BEST'].value_counts()"
   ]
  },
  {
   "cell_type": "code",
   "execution_count": 1012,
   "metadata": {},
   "outputs": [
    {
     "data": {
      "text/plain": [
       "22.0    302804\n",
       "20.0     63690\n",
       "23.0     15267\n",
       "21.0      1279\n",
       "24.0       198\n",
       "7.0         63\n",
       "5.0         30\n",
       "Name: STAGE_BEST_SYSTEM, dtype: int64"
      ]
     },
     "execution_count": 1012,
     "metadata": {},
     "output_type": "execute_result"
    }
   ],
   "source": [
    "tumour['STAGE_BEST_SYSTEM'].value_counts()"
   ]
  },
  {
   "cell_type": "markdown",
   "metadata": {},
   "source": [
    "\"GRADE\" "
   ]
  },
  {
   "cell_type": "markdown",
   "metadata": {},
   "source": [
    "If a grading system for a tumor type is not specified, the following system is generally used :\n",
    "\n",
    "GX: Grade cannot be assessed (undetermined grade)\n",
    "G1: Well differentiated (low grade)\n",
    "G2: Moderately differentiated (intermediate grade)\n",
    "G3: Poorly differentiated (high grade)\n",
    "G4: Undifferentiated (high grade)"
   ]
  },
  {
   "cell_type": "code",
   "execution_count": 1013,
   "metadata": {},
   "outputs": [
    {
     "data": {
      "text/plain": [
       "GX    157113\n",
       "G2    130563\n",
       "G3    107278\n",
       "G1     25607\n",
       "G4      8811\n",
       "Name: GRADE, dtype: int64"
      ]
     },
     "execution_count": 1013,
     "metadata": {},
     "output_type": "execute_result"
    }
   ],
   "source": [
    "tumour['GRADE'].value_counts()"
   ]
  },
  {
   "cell_type": "markdown",
   "metadata": {},
   "source": [
    "\"ER_STATUS\"                   \n",
    "\"ER_SCORE\"                    \n",
    "\"PR_STATUS\"                   \n",
    "\"PR_SCORE\"                    \n",
    "\"HER2_STATUS\"                "
   ]
  },
  {
   "cell_type": "markdown",
   "metadata": {},
   "source": [
    "Hormone receptor studies such as ER, PR, and HER2/neu are routinely done in breast carcinoma. It not only helps in the prognosis of the tumor but also helps in deciding its treatment. The goal of doing this receptor status is to provide right treatment to the right patient."
   ]
  },
  {
   "cell_type": "code",
   "execution_count": 1014,
   "metadata": {},
   "outputs": [
    {
     "data": {
      "text/plain": [
       "P     49233\n",
       "N      8526\n",
       "U      6690\n",
       "Pm      241\n",
       "X       103\n",
       "B        39\n",
       "Name: ER_STATUS, dtype: int64"
      ]
     },
     "execution_count": 1014,
     "metadata": {},
     "output_type": "execute_result"
    }
   ],
   "source": [
    "tumour['ER_STATUS'].value_counts()"
   ]
  },
  {
   "cell_type": "code",
   "execution_count": 1015,
   "metadata": {},
   "outputs": [
    {
     "data": {
      "text/plain": [
       "8.0    21779\n",
       "0       3681\n",
       "7.0     2775\n",
       "6.0      846\n",
       "5.0      478\n",
       "4.0      419\n",
       "3.0      384\n",
       "2        340\n",
       "1          7\n",
       "Name: ER_SCORE, dtype: int64"
      ]
     },
     "execution_count": 1015,
     "metadata": {},
     "output_type": "execute_result"
    }
   ],
   "source": [
    "tumour['ER_SCORE'].value_counts()"
   ]
  },
  {
   "cell_type": "code",
   "execution_count": 1016,
   "metadata": {},
   "outputs": [
    {
     "data": {
      "text/plain": [
       "Index([8.0, '0', 7.0, 6.0, 5.0, 4.0, 3.0, '2', '1'], dtype='object')"
      ]
     },
     "execution_count": 1016,
     "metadata": {},
     "output_type": "execute_result"
    }
   ],
   "source": [
    "tumour.ER_SCORE.value_counts().index"
   ]
  },
  {
   "cell_type": "code",
   "execution_count": 1017,
   "metadata": {},
   "outputs": [],
   "source": [
    "tumour['ER_SCORE'] = tumour['ER_SCORE'].map(float)"
   ]
  },
  {
   "cell_type": "code",
   "execution_count": 1018,
   "metadata": {},
   "outputs": [
    {
     "data": {
      "text/plain": [
       "Float64Index([8.0, 0.0, 7.0, 6.0, 5.0, 4.0, 3.0, 2.0, 1.0], dtype='float64')"
      ]
     },
     "execution_count": 1018,
     "metadata": {},
     "output_type": "execute_result"
    }
   ],
   "source": [
    "tumour.ER_SCORE.value_counts().index"
   ]
  },
  {
   "cell_type": "markdown",
   "metadata": {},
   "source": [
    "I changed value type in \"ER_SCORE\" ."
   ]
  },
  {
   "cell_type": "code",
   "execution_count": 1019,
   "metadata": {},
   "outputs": [
    {
     "data": {
      "text/plain": [
       "P     25591\n",
       "N     11474\n",
       "U      4891\n",
       "X      1310\n",
       "Pm      265\n",
       "B        61\n",
       "Name: PR_STATUS, dtype: int64"
      ]
     },
     "execution_count": 1019,
     "metadata": {},
     "output_type": "execute_result"
    }
   ],
   "source": [
    "tumour['PR_STATUS'].value_counts()"
   ]
  },
  {
   "cell_type": "code",
   "execution_count": 1020,
   "metadata": {},
   "outputs": [
    {
     "data": {
      "text/plain": [
       "8.0    6479\n",
       "0      4707\n",
       "7.0    2277\n",
       "6.0    1442\n",
       "5.0    1136\n",
       "4.0     899\n",
       "3.0     568\n",
       "2       395\n",
       "1        18\n",
       "Name: PR_SCORE, dtype: int64"
      ]
     },
     "execution_count": 1020,
     "metadata": {},
     "output_type": "execute_result"
    }
   ],
   "source": [
    "tumour['PR_SCORE'].value_counts()"
   ]
  },
  {
   "cell_type": "code",
   "execution_count": 1021,
   "metadata": {},
   "outputs": [
    {
     "data": {
      "text/plain": [
       "Index([8.0, '0', 7.0, 6.0, 5.0, 4.0, 3.0, '2', '1'], dtype='object')"
      ]
     },
     "execution_count": 1021,
     "metadata": {},
     "output_type": "execute_result"
    }
   ],
   "source": [
    "tumour.PR_SCORE.value_counts().index"
   ]
  },
  {
   "cell_type": "code",
   "execution_count": 1022,
   "metadata": {},
   "outputs": [],
   "source": [
    "tumour['PR_SCORE'] = tumour['PR_SCORE'].map(float)"
   ]
  },
  {
   "cell_type": "code",
   "execution_count": 1023,
   "metadata": {},
   "outputs": [
    {
     "data": {
      "text/plain": [
       "Float64Index([8.0, 0.0, 7.0, 6.0, 5.0, 4.0, 3.0, 2.0, 1.0], dtype='float64')"
      ]
     },
     "execution_count": 1023,
     "metadata": {},
     "output_type": "execute_result"
    }
   ],
   "source": [
    "tumour.PR_SCORE.value_counts().index"
   ]
  },
  {
   "cell_type": "markdown",
   "metadata": {},
   "source": [
    "I have changed value type in \"ER_SCORE\" "
   ]
  },
  {
   "cell_type": "code",
   "execution_count": 1024,
   "metadata": {},
   "outputs": [
    {
     "data": {
      "text/plain": [
       "N     47857\n",
       "P      7969\n",
       "B      2415\n",
       "X       186\n",
       "Pm      170\n",
       "Name: HER2_STATUS, dtype: int64"
      ]
     },
     "execution_count": 1024,
     "metadata": {},
     "output_type": "execute_result"
    }
   ],
   "source": [
    "tumour['HER2_STATUS'].value_counts()"
   ]
  },
  {
   "cell_type": "markdown",
   "metadata": {},
   "source": [
    "\"CANCERCAREPLANINTENT\"        "
   ]
  },
  {
   "cell_type": "markdown",
   "metadata": {},
   "source": [
    "The intention of a Cancer Care Plan developed within a Cancer Care Spell.\n",
    "National Codes:\n",
    "\n",
    "C\tCurative\n",
    "P\tPalliative anti-cancer\n",
    "S\tSupportive \n",
    "N\tNo specific cancer treatment \n",
    "Z\tNon-Curative\n",
    "X\tNo active treatment"
   ]
  },
  {
   "cell_type": "code",
   "execution_count": 1025,
   "metadata": {},
   "outputs": [
    {
     "data": {
      "text/plain": [
       "C     115032\n",
       "Z      41248\n",
       "9      28976\n",
       "X       8229\n",
       "Cm      2401\n",
       "Zm       461\n",
       "Name: CANCERCAREPLANINTENT, dtype: int64"
      ]
     },
     "execution_count": 1025,
     "metadata": {},
     "output_type": "execute_result"
    }
   ],
   "source": [
    "tumour['CANCERCAREPLANINTENT'].value_counts()"
   ]
  },
  {
   "cell_type": "markdown",
   "metadata": {},
   "source": [
    "\"PERFORMANCESTATUS\"          "
   ]
  },
  {
   "cell_type": "markdown",
   "metadata": {},
   "source": [
    "A World Health Organisation classification indicating a PERSON's status relating to activity/DISABILITY."
   ]
  },
  {
   "cell_type": "code",
   "execution_count": 1026,
   "metadata": {},
   "outputs": [
    {
     "data": {
      "text/plain": [
       "0     69880\n",
       "9     40231\n",
       "1     38656\n",
       "2     18415\n",
       "3     13294\n",
       "4      3835\n",
       "1m     1906\n",
       "2m     1141\n",
       "3m      632\n",
       "4m      150\n",
       "Name: PERFORMANCESTATUS, dtype: int64"
      ]
     },
     "execution_count": 1026,
     "metadata": {},
     "output_type": "execute_result"
    }
   ],
   "source": [
    "tumour['PERFORMANCESTATUS'].value_counts()"
   ]
  },
  {
   "cell_type": "markdown",
   "metadata": {},
   "source": [
    "\"ACE27\""
   ]
  },
  {
   "cell_type": "markdown",
   "metadata": {},
   "source": [
    "The PERSON SCORE recorded during a Cancer Care Spell, where the ASSESSMENT TOOL TYPE is 'Adult Comorbidity Evaluation - 27'.\n",
    "\n",
    "National Codes:\n",
    "\n",
    "0\tNone\n",
    "1\tMild\n",
    "2\tModerate\n",
    "3\tSevere"
   ]
  },
  {
   "cell_type": "code",
   "execution_count": 1027,
   "metadata": {},
   "outputs": [
    {
     "data": {
      "text/plain": [
       "9     23535\n",
       "0     10152\n",
       "1      6162\n",
       "2      4022\n",
       "3      3946\n",
       "3m      160\n",
       "1m      108\n",
       "2m       83\n",
       "Name: ACE27, dtype: int64"
      ]
     },
     "execution_count": 1027,
     "metadata": {},
     "output_type": "execute_result"
    }
   ],
   "source": [
    "tumour['ACE27'].value_counts()"
   ]
  },
  {
   "cell_type": "markdown",
   "metadata": {},
   "source": [
    "\"GLEASON_PRIMARY\"            \n",
    "\"GLEASON_SECONDARY\"           \n",
    "\"GLEASON_TERTIARY\"            \n",
    "\"GLEASON_COMBINED\"           "
   ]
  },
  {
   "cell_type": "markdown",
   "metadata": {},
   "source": [
    "The Gleason Grading System is used to help evaluate the prognosis of men with prostate cancer.\n",
    "\n",
    "A pathologist assigns a GLEASON GRADE to the most common Tumour pattern in a Biopsy specimen (Primary Grade) then the second most common (Secondary Grade). The grades are added together to give the Gleason Score.\n"
   ]
  },
  {
   "cell_type": "code",
   "execution_count": 1028,
   "metadata": {},
   "outputs": [
    {
     "data": {
      "text/plain": [
       "3.0    21672\n",
       "4.0    12994\n",
       "5.0     1642\n",
       "2         15\n",
       "1          1\n",
       "Name: GLEASON_PRIMARY, dtype: int64"
      ]
     },
     "execution_count": 1028,
     "metadata": {},
     "output_type": "execute_result"
    }
   ],
   "source": [
    "tumour['GLEASON_PRIMARY'].value_counts()"
   ]
  },
  {
   "cell_type": "code",
   "execution_count": 1029,
   "metadata": {},
   "outputs": [
    {
     "data": {
      "text/plain": [
       "4.0    8765\n",
       "3.0    8759\n",
       "2      2150\n",
       "5.0    1581\n",
       "Name: GLEASON_SECONDARY, dtype: int64"
      ]
     },
     "execution_count": 1029,
     "metadata": {},
     "output_type": "execute_result"
    }
   ],
   "source": [
    "tumour['GLEASON_SECONDARY'].value_counts()"
   ]
  },
  {
   "cell_type": "code",
   "execution_count": 1030,
   "metadata": {},
   "outputs": [
    {
     "data": {
      "text/plain": [
       "7.0     9997\n",
       "6.0     7246\n",
       "8.0     2313\n",
       "9.0     1386\n",
       "5.0      310\n",
       "10.0      47\n",
       "4.0        7\n",
       "Name: GLEASON_COMBINED, dtype: int64"
      ]
     },
     "execution_count": 1030,
     "metadata": {},
     "output_type": "execute_result"
    }
   ],
   "source": [
    "tumour['GLEASON_COMBINED'].value_counts()"
   ]
  },
  {
   "cell_type": "markdown",
   "metadata": {},
   "source": [
    "Sometimes pathologists will also give a grade to a third component of the specimen (Tertiary Grade) although this is recorded separately and is not added to the score.\n"
   ]
  },
  {
   "cell_type": "code",
   "execution_count": 1031,
   "metadata": {},
   "outputs": [
    {
     "data": {
      "text/plain": [
       "5.0    330\n",
       "4.0     90\n",
       "3.0     65\n",
       "Name: GLEASON_TERTIARY, dtype: int64"
      ]
     },
     "execution_count": 1031,
     "metadata": {},
     "output_type": "execute_result"
    }
   ],
   "source": [
    "tumour['GLEASON_TERTIARY'].value_counts()"
   ]
  },
  {
   "cell_type": "markdown",
   "metadata": {},
   "source": [
    "This data are relatively small ,and considering that it is  recorded separately and is not added to the score,I am going to drop this column."
   ]
  },
  {
   "cell_type": "code",
   "execution_count": 1032,
   "metadata": {},
   "outputs": [],
   "source": [
    "tumour.drop('GLEASON_TERTIARY',axis=1,inplace=True)"
   ]
  },
  {
   "cell_type": "markdown",
   "metadata": {},
   "source": [
    "\"DATE_FIRST_SURGERY\""
   ]
  },
  {
   "cell_type": "code",
   "execution_count": 1033,
   "metadata": {},
   "outputs": [
    {
     "data": {
      "text/plain": [
       "count         289227\n",
       "unique          1478\n",
       "top       2014-04-29\n",
       "freq             409\n",
       "Name: DATE_FIRST_SURGERY, dtype: object"
      ]
     },
     "execution_count": 1033,
     "metadata": {},
     "output_type": "execute_result"
    }
   ],
   "source": [
    "tumour.DATE_FIRST_SURGERY.describe()"
   ]
  },
  {
   "cell_type": "markdown",
   "metadata": {},
   "source": [
    "change object to exclusive type (datatime 64[ns]) for later statistical analysis"
   ]
  },
  {
   "cell_type": "code",
   "execution_count": 1034,
   "metadata": {},
   "outputs": [
    {
     "data": {
      "text/plain": [
       "<matplotlib.axes._subplots.AxesSubplot at 0x28a9ee61eb8>"
      ]
     },
     "execution_count": 1034,
     "metadata": {},
     "output_type": "execute_result"
    },
    {
     "data": {
      "image/png": "[encoded data removed]",
      "text/plain": [
       "<Figure size 432x288 with 1 Axes>"
      ]
     },
     "metadata": {
      "needs_background": "light"
     },
     "output_type": "display_data"
    }
   ],
   "source": [
    "tumour['DATE_FIRST_SURGERY']=pd.to_datetime(tumour.DATE_FIRST_SURGERY)\n",
    "tumour['year_firstsurgery']=tumour.DATE_FIRST_SURGERY.dt.year\n",
    "tumour.year_firstsurgery.value_counts().sort_index().plot()"
   ]
  },
  {
   "cell_type": "markdown",
   "metadata": {},
   "source": [
    "I want to see the frequency of per year.And we can see that 2014 saw the most surgeries(just as describe() shows)"
   ]
  },
  {
   "cell_type": "markdown",
   "metadata": {},
   "source": [
    "\"LATERALITY\" "
   ]
  },
  {
   "cell_type": "markdown",
   "metadata": {},
   "source": [
    "An indication of the:\n",
    "\n",
    "side of the body for a Tumour relating to paired organs within a PATIENT or\n",
    "radiologically determined laterality of the Lesion(s).\n",
    "National Codes:\n",
    "\n",
    "L\tLeft\n",
    "R\tRight\n",
    "M\tMidline\n",
    "B\tBilateral"
   ]
  },
  {
   "cell_type": "code",
   "execution_count": 1035,
   "metadata": {},
   "outputs": [
    {
     "data": {
      "text/plain": [
       "8    188848\n",
       "R     97359\n",
       "L     89186\n",
       "8     52946\n",
       "9      7847\n",
       "B       629\n",
       "M       184\n",
       "Name: LATERALITY, dtype: int64"
      ]
     },
     "execution_count": 1035,
     "metadata": {},
     "output_type": "execute_result"
    }
   ],
   "source": [
    "tumour['LATERALITY'].value_counts()"
   ]
  },
  {
   "cell_type": "markdown",
   "metadata": {},
   "source": [
    "there are two '8',let's see why"
   ]
  },
  {
   "cell_type": "code",
   "execution_count": 1036,
   "metadata": {},
   "outputs": [
    {
     "data": {
      "text/plain": [
       "Index(['8', 'R', 'L', 8, '9', 'B', 'M'], dtype='object')"
      ]
     },
     "execution_count": 1036,
     "metadata": {},
     "output_type": "execute_result"
    }
   ],
   "source": [
    "tumour['LATERALITY'].value_counts().index"
   ]
  },
  {
   "cell_type": "markdown",
   "metadata": {},
   "source": [
    "so I am going to drop value{8} (btw:all value{9 or 99} in this table means not known)"
   ]
  },
  {
   "cell_type": "code",
   "execution_count": 1037,
   "metadata": {},
   "outputs": [],
   "source": [
    "tumour.drop(tumour[tumour.LATERALITY=='8'].index,inplace=True)\n",
    "tumour.drop(tumour[tumour.LATERALITY==8].index,inplace=True)"
   ]
  },
  {
   "cell_type": "code",
   "execution_count": 1038,
   "metadata": {},
   "outputs": [
    {
     "data": {
      "text/plain": [
       "R    97359\n",
       "L    89186\n",
       "9     7847\n",
       "B      629\n",
       "M      184\n",
       "Name: LATERALITY, dtype: int64"
      ]
     },
     "execution_count": 1038,
     "metadata": {},
     "output_type": "execute_result"
    }
   ],
   "source": [
    "tumour['LATERALITY'].value_counts()"
   ]
  },
  {
   "cell_type": "markdown",
   "metadata": {},
   "source": [
    "\"QUINTILE_2015\" "
   ]
  },
  {
   "cell_type": "code",
   "execution_count": 1039,
   "metadata": {},
   "outputs": [
    {
     "data": {
      "text/plain": [
       "2                     40670\n",
       "3                     39705\n",
       "1 - least deprived    38432\n",
       "5 - most deprived     38403\n",
       "4                     37995\n",
       "Name: QUINTILE_2015, dtype: int64"
      ]
     },
     "execution_count": 1039,
     "metadata": {},
     "output_type": "execute_result"
    }
   ],
   "source": [
    "tumour['QUINTILE_2015'].value_counts()"
   ]
  },
  {
   "cell_type": "markdown",
   "metadata": {},
   "source": [
    "if there any duplicate rows(I guess none,but let's check)"
   ]
  },
  {
   "cell_type": "code",
   "execution_count": 1040,
   "metadata": {},
   "outputs": [
    {
     "data": {
      "text/plain": [
       "0"
      ]
     },
     "execution_count": 1040,
     "metadata": {},
     "output_type": "execute_result"
    }
   ],
   "source": [
    "tumour.duplicated().sum()"
   ]
  },
  {
   "cell_type": "markdown",
   "metadata": {},
   "source": [
    "Have a look at this table after cleaning"
   ]
  },
  {
   "cell_type": "code",
   "execution_count": 1041,
   "metadata": {
    "scrolled": true
   },
   "outputs": [
    {
     "data": {
      "text/html": [
       "<div>\n",
       "<style scoped>\n",
       "    .dataframe tbody tr th:only-of-type {\n",
       "        vertical-align: middle;\n",
       "    }\n",
       "\n",
       "    .dataframe tbody tr th {\n",
       "        vertical-align: top;\n",
       "    }\n",
       "\n",
       "    .dataframe thead th {\n",
       "        text-align: right;\n",
       "    }\n",
       "</style>\n",
       "<table border=\"1\" class=\"dataframe\">\n",
       "  <thead>\n",
       "    <tr style=\"text-align: right;\">\n",
       "      <th></th>\n",
       "      <th>TUMOURID</th>\n",
       "      <th>PATIENTID</th>\n",
       "      <th>DIAGNOSISDATEBEST</th>\n",
       "      <th>SITE_ICD10_O2</th>\n",
       "      <th>SITE_ICD10_O2_3CHAR</th>\n",
       "      <th>MORPH_ICD10_O2</th>\n",
       "      <th>BEHAVIOUR_ICD10_O2</th>\n",
       "      <th>T_BEST</th>\n",
       "      <th>N_BEST</th>\n",
       "      <th>M_BEST</th>\n",
       "      <th>...</th>\n",
       "      <th>CNS</th>\n",
       "      <th>ACE27</th>\n",
       "      <th>GLEASON_PRIMARY</th>\n",
       "      <th>GLEASON_SECONDARY</th>\n",
       "      <th>GLEASON_COMBINED</th>\n",
       "      <th>DATE_FIRST_SURGERY</th>\n",
       "      <th>LATERALITY</th>\n",
       "      <th>QUINTILE_2015</th>\n",
       "      <th>year_diagnosis</th>\n",
       "      <th>year_firstsurgery</th>\n",
       "    </tr>\n",
       "  </thead>\n",
       "  <tbody>\n",
       "    <tr>\n",
       "      <th>79</th>\n",
       "      <td>10000082</td>\n",
       "      <td>10000082</td>\n",
       "      <td>2014-11-07</td>\n",
       "      <td>C443</td>\n",
       "      <td>C44</td>\n",
       "      <td>8070</td>\n",
       "      <td>3</td>\n",
       "      <td>2</td>\n",
       "      <td>0</td>\n",
       "      <td>0</td>\n",
       "      <td>...</td>\n",
       "      <td>Y1</td>\n",
       "      <td>NaN</td>\n",
       "      <td>NaN</td>\n",
       "      <td>NaN</td>\n",
       "      <td>NaN</td>\n",
       "      <td>2014-11-07</td>\n",
       "      <td>R</td>\n",
       "      <td>1 - least deprived</td>\n",
       "      <td>2014</td>\n",
       "      <td>2014.0</td>\n",
       "    </tr>\n",
       "    <tr>\n",
       "      <th>86</th>\n",
       "      <td>10000089</td>\n",
       "      <td>10000089</td>\n",
       "      <td>2015-03-16</td>\n",
       "      <td>C447</td>\n",
       "      <td>C44</td>\n",
       "      <td>8070</td>\n",
       "      <td>3</td>\n",
       "      <td>1</td>\n",
       "      <td>0</td>\n",
       "      <td>0</td>\n",
       "      <td>...</td>\n",
       "      <td>99</td>\n",
       "      <td>NaN</td>\n",
       "      <td>NaN</td>\n",
       "      <td>NaN</td>\n",
       "      <td>NaN</td>\n",
       "      <td>2015-04-24</td>\n",
       "      <td>L</td>\n",
       "      <td>2</td>\n",
       "      <td>2015</td>\n",
       "      <td>2015.0</td>\n",
       "    </tr>\n",
       "    <tr>\n",
       "      <th>165</th>\n",
       "      <td>10000168</td>\n",
       "      <td>10000168</td>\n",
       "      <td>2015-05-24</td>\n",
       "      <td>C442</td>\n",
       "      <td>C44</td>\n",
       "      <td>8070</td>\n",
       "      <td>3</td>\n",
       "      <td>2</td>\n",
       "      <td>0</td>\n",
       "      <td>0</td>\n",
       "      <td>...</td>\n",
       "      <td>NI</td>\n",
       "      <td>1</td>\n",
       "      <td>NaN</td>\n",
       "      <td>NaN</td>\n",
       "      <td>NaN</td>\n",
       "      <td>2015-05-27</td>\n",
       "      <td>L</td>\n",
       "      <td>1 - least deprived</td>\n",
       "      <td>2015</td>\n",
       "      <td>2015.0</td>\n",
       "    </tr>\n",
       "    <tr>\n",
       "      <th>334</th>\n",
       "      <td>10000340</td>\n",
       "      <td>10000340</td>\n",
       "      <td>2014-09-05</td>\n",
       "      <td>C446</td>\n",
       "      <td>C44</td>\n",
       "      <td>8090</td>\n",
       "      <td>3</td>\n",
       "      <td>1</td>\n",
       "      <td>0</td>\n",
       "      <td>0</td>\n",
       "      <td>...</td>\n",
       "      <td>NaN</td>\n",
       "      <td>NaN</td>\n",
       "      <td>NaN</td>\n",
       "      <td>NaN</td>\n",
       "      <td>NaN</td>\n",
       "      <td>2014-09-05</td>\n",
       "      <td>R</td>\n",
       "      <td>3</td>\n",
       "      <td>2014</td>\n",
       "      <td>2014.0</td>\n",
       "    </tr>\n",
       "    <tr>\n",
       "      <th>635</th>\n",
       "      <td>10000645</td>\n",
       "      <td>10000645</td>\n",
       "      <td>2015-02-17</td>\n",
       "      <td>C443</td>\n",
       "      <td>C44</td>\n",
       "      <td>8070</td>\n",
       "      <td>3</td>\n",
       "      <td>1</td>\n",
       "      <td>0</td>\n",
       "      <td>0</td>\n",
       "      <td>...</td>\n",
       "      <td>NaN</td>\n",
       "      <td>NaN</td>\n",
       "      <td>NaN</td>\n",
       "      <td>NaN</td>\n",
       "      <td>NaN</td>\n",
       "      <td>NaT</td>\n",
       "      <td>R</td>\n",
       "      <td>4</td>\n",
       "      <td>2015</td>\n",
       "      <td>NaN</td>\n",
       "    </tr>\n",
       "  </tbody>\n",
       "</table>\n",
       "<p>5 rows × 35 columns</p>\n",
       "</div>"
      ],
      "text/plain": [
       "     TUMOURID  PATIENTID DIAGNOSISDATEBEST SITE_ICD10_O2 SITE_ICD10_O2_3CHAR  \\\n",
       "79   10000082   10000082        2014-11-07          C443                 C44   \n",
       "86   10000089   10000089        2015-03-16          C447                 C44   \n",
       "165  10000168   10000168        2015-05-24          C442                 C44   \n",
       "334  10000340   10000340        2014-09-05          C446                 C44   \n",
       "635  10000645   10000645        2015-02-17          C443                 C44   \n",
       "\n",
       "    MORPH_ICD10_O2 BEHAVIOUR_ICD10_O2 T_BEST N_BEST M_BEST  ...  CNS  ACE27  \\\n",
       "79            8070                  3      2      0      0  ...   Y1    NaN   \n",
       "86            8070                  3      1      0      0  ...   99    NaN   \n",
       "165           8070                  3      2      0      0  ...   NI      1   \n",
       "334           8090                  3      1      0      0  ...  NaN    NaN   \n",
       "635           8070                  3      1      0      0  ...  NaN    NaN   \n",
       "\n",
       "    GLEASON_PRIMARY GLEASON_SECONDARY GLEASON_COMBINED DATE_FIRST_SURGERY  \\\n",
       "79              NaN               NaN              NaN         2014-11-07   \n",
       "86              NaN               NaN              NaN         2015-04-24   \n",
       "165             NaN               NaN              NaN         2015-05-27   \n",
       "334             NaN               NaN              NaN         2014-09-05   \n",
       "635             NaN               NaN              NaN                NaT   \n",
       "\n",
       "     LATERALITY       QUINTILE_2015 year_diagnosis  year_firstsurgery  \n",
       "79            R  1 - least deprived           2014             2014.0  \n",
       "86            L                   2           2015             2015.0  \n",
       "165           L  1 - least deprived           2015             2015.0  \n",
       "334           R                   3           2014             2014.0  \n",
       "635           R                   4           2015                NaN  \n",
       "\n",
       "[5 rows x 35 columns]"
      ]
     },
     "execution_count": 1041,
     "metadata": {},
     "output_type": "execute_result"
    }
   ],
   "source": [
    "tumour.head()"
   ]
  },
  {
   "cell_type": "code",
   "execution_count": 1042,
   "metadata": {},
   "outputs": [
    {
     "data": {
      "text/plain": [
       "(195205, 35)"
      ]
     },
     "execution_count": 1042,
     "metadata": {},
     "output_type": "execute_result"
    }
   ],
   "source": [
    "tumour.shape"
   ]
  },
  {
   "cell_type": "markdown",
   "metadata": {},
   "source": [
    "I have dropped the column\"GLEASON_TERTIARY\" and added column \"year_diagnosis\" and \"year_firstsurgery\""
   ]
  },
  {
   "cell_type": "markdown",
   "metadata": {},
   "source": [
    "# analyze（statistical analysis+graphs）some other missing values in specific colunmns I am going to handle in analysis."
   ]
  },
  {
   "cell_type": "code",
   "execution_count": 1043,
   "metadata": {},
   "outputs": [],
   "source": [
    "#%matplotlib inline(already be imputed previously)\n",
    "import seaborn as sns\n",
    "import matplotlib.pyplot as plt\n",
    "import numpy as np"
   ]
  },
  {
   "cell_type": "markdown",
   "metadata": {},
   "source": [
    "what is the latest time of first_surgery and diagnosis_best?"
   ]
  },
  {
   "cell_type": "code",
   "execution_count": 1044,
   "metadata": {},
   "outputs": [
    {
     "data": {
      "text/plain": [
       "Timestamp('2017-03-03 00:00:00')"
      ]
     },
     "execution_count": 1044,
     "metadata": {},
     "output_type": "execute_result"
    }
   ],
   "source": [
    "tumour.DATE_FIRST_SURGERY.max()"
   ]
  },
  {
   "cell_type": "code",
   "execution_count": 1045,
   "metadata": {},
   "outputs": [
    {
     "data": {
      "text/plain": [
       "Timestamp('2015-12-31 00:00:00')"
      ]
     },
     "execution_count": 1045,
     "metadata": {},
     "output_type": "execute_result"
    }
   ],
   "source": [
    "tumour.DIAGNOSISDATEBEST.max()"
   ]
  },
  {
   "cell_type": "markdown",
   "metadata": {},
   "source": [
    "how many days from the oldest first_surgery day and diagnosis_best?"
   ]
  },
  {
   "cell_type": "code",
   "execution_count": 1046,
   "metadata": {},
   "outputs": [
    {
     "data": {
      "text/plain": [
       "1718"
      ]
     },
     "execution_count": 1046,
     "metadata": {},
     "output_type": "execute_result"
    }
   ],
   "source": [
    "(tumour.DATE_FIRST_SURGERY.max()-tumour.DATE_FIRST_SURGERY.min()).days"
   ]
  },
  {
   "cell_type": "code",
   "execution_count": 1047,
   "metadata": {},
   "outputs": [
    {
     "data": {
      "text/plain": [
       "1094"
      ]
     },
     "execution_count": 1047,
     "metadata": {},
     "output_type": "execute_result"
    }
   ],
   "source": [
    "(tumour.DIAGNOSISDATEBEST.max()-tumour.DIAGNOSISDATEBEST.min()).days"
   ]
  },
  {
   "cell_type": "markdown",
   "metadata": {},
   "source": [
    "I want to see what is the distribution of age"
   ]
  },
  {
   "cell_type": "code",
   "execution_count": 1048,
   "metadata": {
    "scrolled": true
   },
   "outputs": [],
   "source": [
    "tumour['AGE']=tumour['AGE'].astype(int)"
   ]
  },
  {
   "cell_type": "code",
   "execution_count": 1049,
   "metadata": {},
   "outputs": [
    {
     "data": {
      "text/plain": [
       "count    195205.000000\n",
       "mean         66.472775\n",
       "std          14.415679\n",
       "min           0.000000\n",
       "25%          57.000000\n",
       "50%          68.000000\n",
       "75%          77.000000\n",
       "max         105.000000\n",
       "Name: AGE, dtype: float64"
      ]
     },
     "execution_count": 1049,
     "metadata": {},
     "output_type": "execute_result"
    }
   ],
   "source": [
    "tumour.AGE.describe()"
   ]
  },
  {
   "cell_type": "code",
   "execution_count": 1050,
   "metadata": {},
   "outputs": [
    {
     "name": "stdout",
     "output_type": "stream",
     "text": [
      "the oldest age is:105\n"
     ]
    }
   ],
   "source": [
    "age_max = tumour['AGE'].max()\n",
    "print(\"the oldest age is:%d\"%age_max)"
   ]
  },
  {
   "cell_type": "code",
   "execution_count": 1051,
   "metadata": {},
   "outputs": [
    {
     "data": {
      "text/plain": [
       "Text(0.5, 0, 'AGE')"
      ]
     },
     "execution_count": 1051,
     "metadata": {},
     "output_type": "execute_result"
    },
    {
     "data": {
      "image/png": "[encoded data removed]",
      "text/plain": [
       "<Figure size 432x288 with 1 Axes>"
      ]
     },
     "metadata": {
      "needs_background": "light"
     },
     "output_type": "display_data"
    }
   ],
   "source": [
    "g1=sns.distplot(tumour['AGE'],rug=True,color='#1E90FF')\n",
    "g1.set_title('the distribution of age')\n",
    "plt.xlabel('AGE')"
   ]
  },
  {
   "cell_type": "markdown",
   "metadata": {},
   "source": [
    "and what is the distribution of sex"
   ]
  },
  {
   "cell_type": "code",
   "execution_count": 1052,
   "metadata": {},
   "outputs": [
    {
     "data": {
      "text/plain": [
       "count     195205\n",
       "unique         2\n",
       "top            2\n",
       "freq      130442\n",
       "Name: SEX, dtype: object"
      ]
     },
     "execution_count": 1052,
     "metadata": {},
     "output_type": "execute_result"
    }
   ],
   "source": [
    "tumour.SEX.describe()"
   ]
  },
  {
   "cell_type": "code",
   "execution_count": 1053,
   "metadata": {},
   "outputs": [
    {
     "name": "stdout",
     "output_type": "stream",
     "text": [
      "total numbel of male:64763\n"
     ]
    }
   ],
   "source": [
    "male=tumour[tumour['SEX']=='1'].shape[0]\n",
    "print(\"total numbel of male:%d\"%male )"
   ]
  },
  {
   "cell_type": "code",
   "execution_count": 1054,
   "metadata": {},
   "outputs": [
    {
     "name": "stdout",
     "output_type": "stream",
     "text": [
      "total numbel of female:130442\n"
     ]
    }
   ],
   "source": [
    "female=tumour[tumour['SEX']=='2'].shape[0]\n",
    "print(\"total numbel of female:%d\"%female )"
   ]
  },
  {
   "cell_type": "code",
   "execution_count": 1055,
   "metadata": {},
   "outputs": [
    {
     "data": {
      "text/plain": [
       "array([<matplotlib.axes._subplots.AxesSubplot object at 0x0000028A64C09D30>],\n",
       "      dtype=object)"
      ]
     },
     "execution_count": 1055,
     "metadata": {},
     "output_type": "execute_result"
    },
    {
     "data": {
      "image/png": "[encoded data removed]",
      "text/plain": [
       "<Figure size 576x576 with 1 Axes>"
      ]
     },
     "metadata": {},
     "output_type": "display_data"
    }
   ],
   "source": [
    "sex=pd.DataFrame([64763,130442],index=['M','F'],columns=['sexdistribution'])\n",
    "sex.plot(kind='pie',subplots=True,figsize=(8,8),autopct='%1.2f%%')"
   ]
  },
  {
   "cell_type": "markdown",
   "metadata": {},
   "source": [
    "what is the distribution of side of body for tumour(laterality)?"
   ]
  },
  {
   "cell_type": "code",
   "execution_count": 1056,
   "metadata": {},
   "outputs": [
    {
     "data": {
      "text/plain": [
       "R    97359\n",
       "L    89186\n",
       "9     7847\n",
       "B      629\n",
       "M      184\n",
       "Name: LATERALITY, dtype: int64"
      ]
     },
     "execution_count": 1056,
     "metadata": {},
     "output_type": "execute_result"
    }
   ],
   "source": [
    "tumour['LATERALITY'].value_counts()"
   ]
  },
  {
   "cell_type": "code",
   "execution_count": 1057,
   "metadata": {},
   "outputs": [
    {
     "data": {
      "text/plain": [
       "array([<matplotlib.axes._subplots.AxesSubplot object at 0x0000028AA10BA940>],\n",
       "      dtype=object)"
      ]
     },
     "execution_count": 1057,
     "metadata": {},
     "output_type": "execute_result"
    },
    {
     "data": {
      "image/png": "[encoded data removed]",
      "text/plain": [
       "<Figure size 576x576 with 1 Axes>"
      ]
     },
     "metadata": {},
     "output_type": "display_data"
    }
   ],
   "source": [
    "laterality=pd.DataFrame([97359,89186,7847,629,184],index=['R','L','9','B','M'],columns=['laterality_distribution'])\n",
    "laterality.plot(kind='pie',subplots=True,figsize=(8,8),textprops={'fontsize': 16, 'color':'w'},autopct='%1.2f%%')"
   ]
  },
  {
   "cell_type": "markdown",
   "metadata": {},
   "source": [
    "most of patients' tumours are in the body of right or left.few patients' tumours are in the middle or both sides of the body."
   ]
  },
  {
   "cell_type": "markdown",
   "metadata": {},
   "source": [
    " "
   ]
  },
  {
   "cell_type": "markdown",
   "metadata": {},
   "source": [
    "Is there any connection between age and sex?"
   ]
  },
  {
   "cell_type": "markdown",
   "metadata": {},
   "source": [
    "(btw:I don't drop AGE==0,because I think it refers to infants)"
   ]
  },
  {
   "cell_type": "code",
   "execution_count": 1058,
   "metadata": {},
   "outputs": [
    {
     "data": {
      "text/plain": [
       "<matplotlib.axes._subplots.AxesSubplot at 0x28aa11166d8>"
      ]
     },
     "execution_count": 1058,
     "metadata": {},
     "output_type": "execute_result"
    },
    {
     "data": {
      "image/png": "[encoded data removed]",
      "text/plain": [
       "<Figure size 432x288 with 1 Axes>"
      ]
     },
     "metadata": {
      "needs_background": "light"
     },
     "output_type": "display_data"
    }
   ],
   "source": [
    "sex_difference = tumour.groupby('SEX')['AGE'].agg(['min','max','mean'])\n",
    "sex_difference.plot(kind='bar')"
   ]
  },
  {
   "cell_type": "markdown",
   "metadata": {},
   "source": [
    "male and female patients' age difference is not significant"
   ]
  },
  {
   "cell_type": "markdown",
   "metadata": {},
   "source": [
    "what is the relationship between sex and the type of tumour(grade)?"
   ]
  },
  {
   "cell_type": "code",
   "execution_count": 1059,
   "metadata": {},
   "outputs": [
    {
     "data": {
      "text/plain": [
       "count     190603\n",
       "unique         5\n",
       "top           GX\n",
       "freq       78863\n",
       "Name: GRADE, dtype: object"
      ]
     },
     "execution_count": 1059,
     "metadata": {},
     "output_type": "execute_result"
    }
   ],
   "source": [
    "tumour.GRADE.describe()"
   ]
  },
  {
   "cell_type": "markdown",
   "metadata": {},
   "source": [
    "grading systems differ depending on the type of cancer                                                       \n",
    "so:\n",
    "sort GRADE by its meaning:GX<G1<G2<G3<G4"
   ]
  },
  {
   "cell_type": "code",
   "execution_count": 1060,
   "metadata": {},
   "outputs": [
    {
     "name": "stderr",
     "output_type": "stream",
     "text": [
      "C:\\Users\\apple\\Anaconda3\\lib\\site-packages\\IPython\\core\\interactiveshell.py:3325: FutureWarning: specifying 'categories' or 'ordered' in .astype() is deprecated; pass a CategoricalDtype instead\n",
      "  exec(code_obj, self.user_global_ns, self.user_ns)\n"
     ]
    }
   ],
   "source": [
    "tumour['GRADE']=tumour.GRADE.astype('category',categories=['GX','G1','G2','G3','G4'],ordered=True)"
   ]
  },
  {
   "cell_type": "code",
   "execution_count": 1061,
   "metadata": {},
   "outputs": [
    {
     "data": {
      "text/plain": [
       "<matplotlib.axes._subplots.AxesSubplot at 0x28aa1167978>"
      ]
     },
     "execution_count": 1061,
     "metadata": {},
     "output_type": "execute_result"
    },
    {
     "data": {
      "image/png": "[encoded data removed]",
      "text/plain": [
       "<Figure size 432x288 with 1 Axes>"
      ]
     },
     "metadata": {
      "needs_background": "light"
     },
     "output_type": "display_data"
    }
   ],
   "source": [
    "g3=sns.countplot(x='GRADE',hue='SEX',data=tumour)\n",
    "g3"
   ]
  },
  {
   "cell_type": "markdown",
   "metadata": {},
   "source": [
    "majority of male patients' tumours cannot be assessed and majority of female patients' tumours are moderately differentiated.Very few patients' tumours spead faster and grow rapidly."
   ]
  },
  {
   "cell_type": "markdown",
   "metadata": {},
   "source": [
    "I want to understand the meaning of gleason system."
   ]
  },
  {
   "cell_type": "code",
   "execution_count": 1062,
   "metadata": {},
   "outputs": [
    {
     "data": {
      "text/plain": [
       "Text(0, 0.5, 'Secondary_Grade')"
      ]
     },
     "execution_count": 1062,
     "metadata": {},
     "output_type": "execute_result"
    },
    {
     "data": {
      "image/png": "[encoded data removed]",
      "text/plain": [
       "<Figure size 864x720 with 2 Axes>"
      ]
     },
     "metadata": {},
     "output_type": "display_data"
    }
   ],
   "source": [
    "sns.set(style='whitegrid')\n",
    "x=tumour.GLEASON_PRIMARY\n",
    "y=tumour.GLEASON_SECONDARY\n",
    "z=tumour.GLEASON_COMBINED\n",
    "fig,ax=plt.subplots(figsize=(12,10))\n",
    "bubble=ax.scatter(x,y,s=(z-np.min(z)+0.1)*1000,c=z,linewidth=0.5,alpha=0.5)\n",
    "ax.grid()\n",
    "fig.colorbar(bubble)   \n",
    "ax.set_xlabel('Primary_Grade',fontsize=15)\n",
    "ax.set_ylabel('Secondary_Grade',fontsize=15)"
   ]
  },
  {
   "cell_type": "markdown",
   "metadata": {},
   "source": [
    "The Gleason score of each area is 1~5, and the Gleason score is the sum of the Gleason score of the primary and secondary areas to form the cancer grading constant. Its characteristics can be summarized as follows :1 grading principle (growth mode),2 aspects (main growth mode and secondary growth mode),5 grading system (grade 1-5 grading of gland differentiation),10 points (the least differentiated is 5+5=10)."
   ]
  },
  {
   "cell_type": "markdown",
   "metadata": {},
   "source": [
    "If there are connections between the score of PR ER HER2"
   ]
  },
  {
   "cell_type": "code",
   "execution_count": 1063,
   "metadata": {},
   "outputs": [
    {
     "data": {
      "text/plain": [
       "NaN    164673\n",
       "8.0     21653\n",
       "0.0      3656\n",
       "7.0      2763\n",
       "6.0       840\n",
       "5.0       475\n",
       "4.0       419\n",
       "3.0       381\n",
       "2.0       338\n",
       "1.0         7\n",
       "Name: ER_SCORE, dtype: int64"
      ]
     },
     "execution_count": 1063,
     "metadata": {},
     "output_type": "execute_result"
    }
   ],
   "source": [
    "tumour['ER_SCORE'].value_counts(dropna=False)"
   ]
  },
  {
   "cell_type": "code",
   "execution_count": 1064,
   "metadata": {},
   "outputs": [],
   "source": [
    "tumour['ER_SCORE'].fillna(value=9.0,inplace=True)"
   ]
  },
  {
   "cell_type": "code",
   "execution_count": 1065,
   "metadata": {},
   "outputs": [],
   "source": [
    "tumour['PR_SCORE'].fillna(value=9.0,inplace=True)"
   ]
  },
  {
   "cell_type": "code",
   "execution_count": 1066,
   "metadata": {},
   "outputs": [
    {
     "data": {
      "text/plain": [
       "Float64Index([9.0, 8.0, 0.0, 7.0, 6.0, 5.0, 4.0, 3.0, 2.0, 1.0], dtype='float64')"
      ]
     },
     "execution_count": 1066,
     "metadata": {},
     "output_type": "execute_result"
    }
   ],
   "source": [
    "tumour['PR_SCORE'].value_counts().index"
   ]
  },
  {
   "cell_type": "code",
   "execution_count": 1067,
   "metadata": {},
   "outputs": [
    {
     "data": {
      "text/plain": [
       "Text(0, 0.5, 'ER')"
      ]
     },
     "execution_count": 1067,
     "metadata": {},
     "output_type": "execute_result"
    },
    {
     "data": {
      "image/png": "[encoded data removed]",
      "text/plain": [
       "<Figure size 864x720 with 2 Axes>"
      ]
     },
     "metadata": {},
     "output_type": "display_data"
    }
   ],
   "source": [
    "sns.set(style='whitegrid')\n",
    "x1=tumour.PR_SCORE\n",
    "y1=tumour.ER_SCORE\n",
    "z1=tumour.GLEASON_COMBINED\n",
    "fig,ax=plt.subplots(figsize=(12,10))\n",
    "bubble=ax.scatter(x1,y1,s=(z1-np.min(z1)+0.1)*1000,c=z1,linewidth=0.5,alpha=0.5)\n",
    "ax.grid()\n",
    "fig.colorbar(bubble)   \n",
    "ax.set_xlabel('PR',fontsize=15)\n",
    "ax.set_ylabel('ER',fontsize=15)"
   ]
  },
  {
   "cell_type": "markdown",
   "metadata": {},
   "source": [
    "Is there relationship between age ,sex and incidence?"
   ]
  },
  {
   "cell_type": "code",
   "execution_count": 1068,
   "metadata": {},
   "outputs": [
    {
     "data": {
      "text/plain": [
       "Index(['9', '0', '1', '2', '3', '3m', '1m', '2m'], dtype='object')"
      ]
     },
     "execution_count": 1068,
     "metadata": {},
     "output_type": "execute_result"
    }
   ],
   "source": [
    "tumour.ACE27.value_counts().index"
   ]
  },
  {
   "cell_type": "markdown",
   "metadata": {},
   "source": [
    "9 means unknow,m means minus,so just take representative values."
   ]
  },
  {
   "cell_type": "code",
   "execution_count": 1069,
   "metadata": {},
   "outputs": [],
   "source": [
    "tumour2=tumour.loc[(tumour['ACE27']=='0')|(tumour['ACE27']=='1')|(tumour['ACE27']=='2')|(tumour['ACE27']=='3')]"
   ]
  },
  {
   "cell_type": "code",
   "execution_count": 1070,
   "metadata": {},
   "outputs": [
    {
     "name": "stderr",
     "output_type": "stream",
     "text": [
      "C:\\Users\\apple\\Anaconda3\\lib\\site-packages\\ipykernel_launcher.py:1: SettingWithCopyWarning: \n",
      "A value is trying to be set on a copy of a slice from a DataFrame.\n",
      "Try using .loc[row_indexer,col_indexer] = value instead\n",
      "\n",
      "See the caveats in the documentation: http://pandas.pydata.org/pandas-docs/stable/indexing.html#indexing-view-versus-copy\n",
      "  \"\"\"Entry point for launching an IPython kernel.\n"
     ]
    }
   ],
   "source": [
    "tumour2['ACE27']=pd.to_numeric(tumour2['ACE27'])"
   ]
  },
  {
   "cell_type": "code",
   "execution_count": 1071,
   "metadata": {},
   "outputs": [
    {
     "data": {
      "text/plain": [
       "Int64Index([0, 1, 2, 3], dtype='int64')"
      ]
     },
     "execution_count": 1071,
     "metadata": {},
     "output_type": "execute_result"
    }
   ],
   "source": [
    "tumour2.ACE27.value_counts().index"
   ]
  },
  {
   "cell_type": "code",
   "execution_count": 1072,
   "metadata": {},
   "outputs": [
    {
     "data": {
      "text/plain": [
       "<matplotlib.axes._subplots.AxesSubplot at 0x28ad8060cf8>"
      ]
     },
     "execution_count": 1072,
     "metadata": {},
     "output_type": "execute_result"
    },
    {
     "data": {
      "image/png": "[encoded data removed]",
      "text/plain": [
       "<Figure size 432x288 with 1 Axes>"
      ]
     },
     "metadata": {},
     "output_type": "display_data"
    }
   ],
   "source": [
    "sns.violinplot(x=tumour2['SEX'],y=tumour2['AGE'],hue = tumour2['ACE27'],linewidth=1,palette='Set3')"
   ]
  },
  {
   "cell_type": "markdown",
   "metadata": {},
   "source": [
    "Is there any relationship between the patients' stage sex and age?"
   ]
  },
  {
   "cell_type": "code",
   "execution_count": 1073,
   "metadata": {},
   "outputs": [
    {
     "data": {
      "text/plain": [
       "Index(['0', '1', '9', '2', '3', '4', '1m', '2m', '3m', '4m'], dtype='object')"
      ]
     },
     "execution_count": 1073,
     "metadata": {},
     "output_type": "execute_result"
    }
   ],
   "source": [
    "tumour.PERFORMANCESTATUS.value_counts().index"
   ]
  },
  {
   "cell_type": "markdown",
   "metadata": {},
   "source": [
    "0:normal activity 1:cares for self 2:occasional assistance 3:nursing care needed 4:bedridden"
   ]
  },
  {
   "cell_type": "markdown",
   "metadata": {},
   "source": [
    "9 means unknow,m means minus,so just take representative values."
   ]
  },
  {
   "cell_type": "code",
   "execution_count": 1074,
   "metadata": {},
   "outputs": [],
   "source": [
    "tumour3=tumour.loc[(tumour['PERFORMANCESTATUS']=='0')|(tumour['PERFORMANCESTATUS']=='1')|(tumour['PERFORMANCESTATUS']=='2')|(tumour['PERFORMANCESTATUS']=='3')|(tumour['PERFORMANCESTATUS']=='4')]"
   ]
  },
  {
   "cell_type": "code",
   "execution_count": 1075,
   "metadata": {},
   "outputs": [
    {
     "name": "stderr",
     "output_type": "stream",
     "text": [
      "C:\\Users\\apple\\Anaconda3\\lib\\site-packages\\ipykernel_launcher.py:1: SettingWithCopyWarning: \n",
      "A value is trying to be set on a copy of a slice from a DataFrame.\n",
      "Try using .loc[row_indexer,col_indexer] = value instead\n",
      "\n",
      "See the caveats in the documentation: http://pandas.pydata.org/pandas-docs/stable/indexing.html#indexing-view-versus-copy\n",
      "  \"\"\"Entry point for launching an IPython kernel.\n"
     ]
    }
   ],
   "source": [
    "tumour3['PERFORMANCESTATUS']=pd.to_numeric(tumour3['PERFORMANCESTATUS'])"
   ]
  },
  {
   "cell_type": "code",
   "execution_count": 1076,
   "metadata": {},
   "outputs": [
    {
     "data": {
      "text/plain": [
       "<matplotlib.axes._subplots.AxesSubplot at 0x28ac24e7588>"
      ]
     },
     "execution_count": 1076,
     "metadata": {},
     "output_type": "execute_result"
    },
    {
     "data": {
      "image/png": "[encoded data removed]",
      "text/plain": [
       "<Figure size 432x288 with 1 Axes>"
      ]
     },
     "metadata": {},
     "output_type": "display_data"
    }
   ],
   "source": [
    "sns.violinplot(x=tumour3['SEX'],y=tumour3['AGE'],hue = tumour3['PERFORMANCESTATUS'],linewidth=1,palette='Set2')"
   ]
  },
  {
   "cell_type": "markdown",
   "metadata": {},
   "source": [
    "know more about status of ER PR HER2"
   ]
  },
  {
   "cell_type": "code",
   "execution_count": 1077,
   "metadata": {},
   "outputs": [],
   "source": [
    "tumour['PR_STATUS'].fillna(value='M',inplace=True)\n",
    "tumour['ER_STATUS'].fillna(value='M',inplace=True)\n",
    "tumour['HER2_STATUS'].fillna(value='M',inplace=True)"
   ]
  },
  {
   "cell_type": "code",
   "execution_count": 1078,
   "metadata": {},
   "outputs": [],
   "source": [
    "tumour.drop(tumour[tumour.PR_STATUS=='U'].index,inplace=True)\n",
    "tumour.drop(tumour[tumour.ER_STATUS=='U'].index,inplace=True)"
   ]
  },
  {
   "cell_type": "code",
   "execution_count": 1079,
   "metadata": {},
   "outputs": [
    {
     "data": {
      "text/plain": [
       "M     130852\n",
       "P      48585\n",
       "N       8397\n",
       "Pm       235\n",
       "X         91\n",
       "B         30\n",
       "Name: ER_STATUS, dtype: int64"
      ]
     },
     "execution_count": 1079,
     "metadata": {},
     "output_type": "execute_result"
    }
   ],
   "source": [
    "tumour['ER_STATUS'].value_counts()"
   ]
  },
  {
   "cell_type": "code",
   "execution_count": 1080,
   "metadata": {},
   "outputs": [
    {
     "data": {
      "text/plain": [
       "M     150129\n",
       "P      25355\n",
       "N      11242\n",
       "X       1139\n",
       "Pm       264\n",
       "B         61\n",
       "Name: PR_STATUS, dtype: int64"
      ]
     },
     "execution_count": 1080,
     "metadata": {},
     "output_type": "execute_result"
    }
   ],
   "source": [
    "tumour['PR_STATUS'].value_counts()"
   ]
  },
  {
   "cell_type": "code",
   "execution_count": 1081,
   "metadata": {},
   "outputs": [
    {
     "data": {
      "text/plain": [
       "M     136061\n",
       "N      42510\n",
       "P       7105\n",
       "B       2188\n",
       "X        176\n",
       "Pm       150\n",
       "Name: HER2_STATUS, dtype: int64"
      ]
     },
     "execution_count": 1081,
     "metadata": {},
     "output_type": "execute_result"
    }
   ],
   "source": [
    "tumour['HER2_STATUS'].value_counts()"
   ]
  },
  {
   "cell_type": "code",
   "execution_count": 1082,
   "metadata": {},
   "outputs": [
    {
     "data": {
      "text/html": [
       "<div>\n",
       "<style scoped>\n",
       "    .dataframe tbody tr th:only-of-type {\n",
       "        vertical-align: middle;\n",
       "    }\n",
       "\n",
       "    .dataframe tbody tr th {\n",
       "        vertical-align: top;\n",
       "    }\n",
       "\n",
       "    .dataframe thead th {\n",
       "        text-align: right;\n",
       "    }\n",
       "</style>\n",
       "<table border=\"1\" class=\"dataframe\">\n",
       "  <thead>\n",
       "    <tr style=\"text-align: right;\">\n",
       "      <th></th>\n",
       "      <th>ER</th>\n",
       "      <th>PR</th>\n",
       "      <th>HER2</th>\n",
       "    </tr>\n",
       "    <tr>\n",
       "      <th>Index</th>\n",
       "      <th></th>\n",
       "      <th></th>\n",
       "      <th></th>\n",
       "    </tr>\n",
       "  </thead>\n",
       "  <tbody>\n",
       "    <tr>\n",
       "      <th>M</th>\n",
       "      <td>130852</td>\n",
       "      <td>150129</td>\n",
       "      <td>136061</td>\n",
       "    </tr>\n",
       "    <tr>\n",
       "      <th>P</th>\n",
       "      <td>48585</td>\n",
       "      <td>25355</td>\n",
       "      <td>7105</td>\n",
       "    </tr>\n",
       "    <tr>\n",
       "      <th>N</th>\n",
       "      <td>8397</td>\n",
       "      <td>11242</td>\n",
       "      <td>42510</td>\n",
       "    </tr>\n",
       "    <tr>\n",
       "      <th>Pm</th>\n",
       "      <td>235</td>\n",
       "      <td>264</td>\n",
       "      <td>150</td>\n",
       "    </tr>\n",
       "    <tr>\n",
       "      <th>B</th>\n",
       "      <td>30</td>\n",
       "      <td>61</td>\n",
       "      <td>2188</td>\n",
       "    </tr>\n",
       "    <tr>\n",
       "      <th>X</th>\n",
       "      <td>91</td>\n",
       "      <td>1139</td>\n",
       "      <td>176</td>\n",
       "    </tr>\n",
       "  </tbody>\n",
       "</table>\n",
       "</div>"
      ],
      "text/plain": [
       "           ER      PR    HER2\n",
       "Index                        \n",
       "M      130852  150129  136061\n",
       "P       48585   25355    7105\n",
       "N        8397   11242   42510\n",
       "Pm        235     264     150\n",
       "B          30      61    2188\n",
       "X          91    1139     176"
      ]
     },
     "execution_count": 1082,
     "metadata": {},
     "output_type": "execute_result"
    }
   ],
   "source": [
    "data=[['M',130852,150129,136061],['P',48585,25355,7105],['N',8397,11242,42510],['Pm',235,264,150],['B',30,61,2188],['X',91,1139,176]]\n",
    "tumour4=pd.DataFrame(data,columns=['Index','ER','PR','HER2'])\n",
    "tumour5=tumour4.set_index('Index')\n",
    "tumour5"
   ]
  },
  {
   "cell_type": "code",
   "execution_count": 1083,
   "metadata": {},
   "outputs": [
    {
     "data": {
      "text/plain": [
       "<matplotlib.axes._subplots.AxesSubplot at 0x28a917de748>"
      ]
     },
     "execution_count": 1083,
     "metadata": {},
     "output_type": "execute_result"
    },
    {
     "data": {
      "image/png": "[encoded data removed]",
      "text/plain": [
       "<Figure size 432x288 with 1 Axes>"
      ]
     },
     "metadata": {},
     "output_type": "display_data"
    }
   ],
   "source": [
    "tumour5.plot(kind='barh')"
   ]
  },
  {
   "cell_type": "markdown",
   "metadata": {},
   "source": [
    "M means missing values,so we can see there are a lot of missing values.But why?\n",
    "\n",
    "When the cells become cancerous, some and all of ER and PR are missing. \n",
    "If the cell still retains ER and/or PR, the growth and proliferation of the breast cancer cell is still regulated by endocrine; \n",
    "\n",
    "If ER and/or PR is absent, the growth of the breast cancer cell And proliferation is no longer regulated by endocrine, called non-hormone-dependent breast cancer.\n",
    "\n",
    "And if the cancer tests negative for over-expression of the her2, weekly chemotherapy is an effective option with acceptable side effects."
   ]
  },
  {
   "cell_type": "markdown",
   "metadata": {},
   "source": [
    "# reflect and hypothesise"
   ]
  },
  {
   "cell_type": "markdown",
   "metadata": {},
   "source": [
    "Every member in our group was assigned different analysis tasks in terms of drugs, types of tumours, relatinship of medical theoretical data and so on in order to avoid duplication of effort.\n",
    "\n",
    "When I was doing the above analysis,I already made comments aside about the basic information of the table,the meaning of each column,and the possible connection between each column.                                                       \n",
    " \n",
    "The number of peopleb diagnosed with cancer increases every year,and most of them were in their 60s and 70s,and women were over represented(66.82%).However,some lived to be over a hundred though they had cancer.Male patients' tumours were more likely to not be assessed while female patients' tumours are moderately differentiated. \n",
    "\n",
    "In gleason system,if only two modes are seen, the score for the first number is the primary score for the tumor and the second number is the medium score. If you see three patterns, the score for the first number will be the primary grade and the highest number of patterns for the second grade.\n",
    "\n",
    "There is no significant difference between male and female in incidence rate(ACE27) and the state at the time(PERFORMANCESTATUS),and as the age increases, these indexes will rise.But there are also some abnormal values that do not match.\n",
    "\n",
    "ER PR HER2 can reflect the control of tumors.But I still don't understand some meanings about these data.\n",
    "\n",
    "Our group already read some paper about cancer and tumour,but there still have data we cannot explain ,so we are going to email the data owner and ask some questions.And we will study some algorithms for assignment3, "
   ]
  }
 ],
 "metadata": {
  "kernelspec": {
   "display_name": "Python 3",
   "language": "python",
   "name": "python3"
  },
  "language_info": {
   "codemirror_mode": {
    "name": "ipython",
    "version": 3
   },
   "file_extension": ".py",
   "mimetype": "text/x-python",
   "name": "python",
   "nbconvert_exporter": "python",
   "pygments_lexer": "ipython3",
   "version": "3.7.3"
  }
 },
 "nbformat": 4,
 "nbformat_minor": 2
}
